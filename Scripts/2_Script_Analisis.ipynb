{
 "cells": [
  {
   "cell_type": "code",
   "execution_count": 1,
   "metadata": {},
   "outputs": [
    {
     "name": "stdout",
     "output_type": "stream",
     "text": [
      "Conexion exitosa\n"
     ]
    },
    {
     "name": "stderr",
     "output_type": "stream",
     "text": [
      "C:\\Users\\wsilva\\AppData\\Local\\Temp\\ipykernel_19044\\174594420.py:16: UserWarning: pandas only supports SQLAlchemy connectable (engine/connection) or database string URI or sqlite3 DBAPI2 connection. Other DBAPI2 objects are not tested. Please consider using SQLAlchemy.\n",
      "  df = pd.read_sql_query(\"SELECT * FROM Rpt_ResultadosLaboratorio\",cnxn)\n"
     ]
    },
    {
     "data": {
      "text/html": [
       "<div>\n",
       "<style scoped>\n",
       "    .dataframe tbody tr th:only-of-type {\n",
       "        vertical-align: middle;\n",
       "    }\n",
       "\n",
       "    .dataframe tbody tr th {\n",
       "        vertical-align: top;\n",
       "    }\n",
       "\n",
       "    .dataframe thead th {\n",
       "        text-align: right;\n",
       "    }\n",
       "</style>\n",
       "<table border=\"1\" class=\"dataframe\">\n",
       "  <thead>\n",
       "    <tr style=\"text-align: right;\">\n",
       "      <th></th>\n",
       "      <th>OrdenLaboratorioDetalleId</th>\n",
       "      <th>FechaRecepcionMuestra</th>\n",
       "      <th>CodigoMuestra</th>\n",
       "      <th>Expediente</th>\n",
       "      <th>NombreCompleto</th>\n",
       "      <th>Edad</th>\n",
       "      <th>TipoEdad</th>\n",
       "      <th>Sexo</th>\n",
       "      <th>Ocupacion</th>\n",
       "      <th>Region</th>\n",
       "      <th>...</th>\n",
       "      <th>Obesidad</th>\n",
       "      <th>Asma</th>\n",
       "      <th>EnfermedadRenalCronica</th>\n",
       "      <th>Inmunosupresion</th>\n",
       "      <th>AlcoholismoCronico</th>\n",
       "      <th>EnfermedadNeurologicaCronica</th>\n",
       "      <th>Tabaquismo</th>\n",
       "      <th>Embarazo</th>\n",
       "      <th>SemanasGestacion</th>\n",
       "      <th>Observaciones</th>\n",
       "    </tr>\n",
       "  </thead>\n",
       "  <tbody>\n",
       "    <tr>\n",
       "      <th>0</th>\n",
       "      <td>32382</td>\n",
       "      <td>2020-12-07 20:20:34.127</td>\n",
       "      <td>LNV 202490</td>\n",
       "      <td>0801198511570</td>\n",
       "      <td>JOSUE DAVID SOLANO CERRATO</td>\n",
       "      <td>35</td>\n",
       "      <td>AÑOS</td>\n",
       "      <td>HOMBRE</td>\n",
       "      <td>SD</td>\n",
       "      <td>19</td>\n",
       "      <td>...</td>\n",
       "      <td>None</td>\n",
       "      <td>None</td>\n",
       "      <td>None</td>\n",
       "      <td>None</td>\n",
       "      <td>None</td>\n",
       "      <td>None</td>\n",
       "      <td>None</td>\n",
       "      <td>None</td>\n",
       "      <td>NaN</td>\n",
       "      <td></td>\n",
       "    </tr>\n",
       "    <tr>\n",
       "      <th>1</th>\n",
       "      <td>32380</td>\n",
       "      <td>2020-12-07 20:15:53.620</td>\n",
       "      <td>LNV 202488</td>\n",
       "      <td>0801202009731</td>\n",
       "      <td>MATEO SEBASTIAN SALVADOR AVILA</td>\n",
       "      <td>1</td>\n",
       "      <td>MESES</td>\n",
       "      <td>HOMBRE</td>\n",
       "      <td>SD</td>\n",
       "      <td>19</td>\n",
       "      <td>...</td>\n",
       "      <td>None</td>\n",
       "      <td>None</td>\n",
       "      <td>None</td>\n",
       "      <td>None</td>\n",
       "      <td>None</td>\n",
       "      <td>None</td>\n",
       "      <td>None</td>\n",
       "      <td>None</td>\n",
       "      <td>NaN</td>\n",
       "      <td></td>\n",
       "    </tr>\n",
       "    <tr>\n",
       "      <th>2</th>\n",
       "      <td>25795</td>\n",
       "      <td>2020-12-01 13:26:44.477</td>\n",
       "      <td>LNV 195903</td>\n",
       "      <td>P-3700</td>\n",
       "      <td>JOSUE FERNANDO PASCUAL TORRES</td>\n",
       "      <td>31</td>\n",
       "      <td>AÑOS</td>\n",
       "      <td>HOMBRE</td>\n",
       "      <td>SD</td>\n",
       "      <td>19</td>\n",
       "      <td>...</td>\n",
       "      <td>None</td>\n",
       "      <td>None</td>\n",
       "      <td>None</td>\n",
       "      <td>None</td>\n",
       "      <td>None</td>\n",
       "      <td>None</td>\n",
       "      <td>None</td>\n",
       "      <td>None</td>\n",
       "      <td>NaN</td>\n",
       "      <td></td>\n",
       "    </tr>\n",
       "    <tr>\n",
       "      <th>3</th>\n",
       "      <td>31965</td>\n",
       "      <td>2020-12-07 15:04:56.323</td>\n",
       "      <td>LNV 202073</td>\n",
       "      <td>0704199400390</td>\n",
       "      <td>JUSSARA SIBELLY AVILA RODRIGUEZ</td>\n",
       "      <td>27</td>\n",
       "      <td>AÑOS</td>\n",
       "      <td>MUJER</td>\n",
       "      <td>SD</td>\n",
       "      <td>19</td>\n",
       "      <td>...</td>\n",
       "      <td>None</td>\n",
       "      <td>None</td>\n",
       "      <td>None</td>\n",
       "      <td>None</td>\n",
       "      <td>None</td>\n",
       "      <td>None</td>\n",
       "      <td>None</td>\n",
       "      <td>None</td>\n",
       "      <td>NaN</td>\n",
       "      <td></td>\n",
       "    </tr>\n",
       "    <tr>\n",
       "      <th>4</th>\n",
       "      <td>32216</td>\n",
       "      <td>2020-12-07 17:05:42.040</td>\n",
       "      <td>LNV 202324</td>\n",
       "      <td>0716199000118</td>\n",
       "      <td>JOSE MANUEL CACERES LOPEZ</td>\n",
       "      <td>30</td>\n",
       "      <td>AÑOS</td>\n",
       "      <td>HOMBRE</td>\n",
       "      <td>SD</td>\n",
       "      <td>19</td>\n",
       "      <td>...</td>\n",
       "      <td>None</td>\n",
       "      <td>None</td>\n",
       "      <td>None</td>\n",
       "      <td>None</td>\n",
       "      <td>None</td>\n",
       "      <td>None</td>\n",
       "      <td>None</td>\n",
       "      <td>None</td>\n",
       "      <td>NaN</td>\n",
       "      <td></td>\n",
       "    </tr>\n",
       "  </tbody>\n",
       "</table>\n",
       "<p>5 rows × 54 columns</p>\n",
       "</div>"
      ],
      "text/plain": [
       "   OrdenLaboratorioDetalleId   FechaRecepcionMuestra CodigoMuestra  \\\n",
       "0                      32382 2020-12-07 20:20:34.127    LNV 202490   \n",
       "1                      32380 2020-12-07 20:15:53.620    LNV 202488   \n",
       "2                      25795 2020-12-01 13:26:44.477    LNV 195903   \n",
       "3                      31965 2020-12-07 15:04:56.323    LNV 202073   \n",
       "4                      32216 2020-12-07 17:05:42.040    LNV 202324   \n",
       "\n",
       "      Expediente                   NombreCompleto  Edad TipoEdad    Sexo  \\\n",
       "0  0801198511570       JOSUE DAVID SOLANO CERRATO    35     AÑOS  HOMBRE   \n",
       "1  0801202009731   MATEO SEBASTIAN SALVADOR AVILA     1    MESES  HOMBRE   \n",
       "2         P-3700    JOSUE FERNANDO PASCUAL TORRES    31     AÑOS  HOMBRE   \n",
       "3  0704199400390  JUSSARA SIBELLY AVILA RODRIGUEZ    27     AÑOS   MUJER   \n",
       "4  0716199000118        JOSE MANUEL CACERES LOPEZ    30     AÑOS  HOMBRE   \n",
       "\n",
       "  Ocupacion  Region  ... Obesidad  Asma EnfermedadRenalCronica  \\\n",
       "0        SD      19  ...     None  None                   None   \n",
       "1        SD      19  ...     None  None                   None   \n",
       "2        SD      19  ...     None  None                   None   \n",
       "3        SD      19  ...     None  None                   None   \n",
       "4        SD      19  ...     None  None                   None   \n",
       "\n",
       "  Inmunosupresion AlcoholismoCronico EnfermedadNeurologicaCronica Tabaquismo  \\\n",
       "0            None               None                         None       None   \n",
       "1            None               None                         None       None   \n",
       "2            None               None                         None       None   \n",
       "3            None               None                         None       None   \n",
       "4            None               None                         None       None   \n",
       "\n",
       "  Embarazo SemanasGestacion Observaciones  \n",
       "0     None              NaN                \n",
       "1     None              NaN                \n",
       "2     None              NaN                \n",
       "3     None              NaN                \n",
       "4     None              NaN                \n",
       "\n",
       "[5 rows x 54 columns]"
      ]
     },
     "execution_count": 1,
     "metadata": {},
     "output_type": "execute_result"
    }
   ],
   "source": [
    "# Importar Librerias\n",
    "import pandas as pd\n",
    "import pyodbc \n",
    "\n",
    "#Establecer la conexión con la base de datos\n",
    "server = 'ws-dev' \n",
    "database = 'svs_produccion' \n",
    "username = 'sa_Api' \n",
    "password = '$db@C0vid*19' \n",
    "\n",
    "cnxn = pyodbc.connect('DRIVER={SQL Server};SERVER='+server+';DATABASE='+database+';UID='+username+';PWD='+ password)\n",
    "\n",
    "print(\"Conexion exitosa\")\n",
    "\n",
    "# Ejecutar una consulta SQL para obtener la lista de tablas\n",
    "df = pd.read_sql_query(\"SELECT * FROM Rpt_ResultadosLaboratorio\",cnxn)\n",
    "\n",
    "#Cerrar Conexion a la Base de Datos\n",
    "cnxn.close()\n",
    "\n",
    "# validar los campos o valiables del dataframe\n",
    "df.head()"
   ]
  },
  {
   "cell_type": "code",
   "execution_count": 2,
   "metadata": {},
   "outputs": [
    {
     "data": {
      "text/html": [
       "<div>\n",
       "<style scoped>\n",
       "    .dataframe tbody tr th:only-of-type {\n",
       "        vertical-align: middle;\n",
       "    }\n",
       "\n",
       "    .dataframe tbody tr th {\n",
       "        vertical-align: top;\n",
       "    }\n",
       "\n",
       "    .dataframe thead th {\n",
       "        text-align: right;\n",
       "    }\n",
       "</style>\n",
       "<table border=\"1\" class=\"dataframe\">\n",
       "  <thead>\n",
       "    <tr style=\"text-align: right;\">\n",
       "      <th></th>\n",
       "      <th>OrdenLaboratorioDetalleId</th>\n",
       "      <th>FechaRecepcionMuestra</th>\n",
       "      <th>CodigoMuestra</th>\n",
       "      <th>Expediente</th>\n",
       "      <th>NombreCompleto</th>\n",
       "      <th>Edad</th>\n",
       "      <th>TipoEdad</th>\n",
       "      <th>Sexo</th>\n",
       "      <th>Ocupacion</th>\n",
       "      <th>Region</th>\n",
       "      <th>...</th>\n",
       "      <th>Inmunosupresion</th>\n",
       "      <th>AlcoholismoCronico</th>\n",
       "      <th>EnfermedadNeurologicaCronica</th>\n",
       "      <th>Tabaquismo</th>\n",
       "      <th>Embarazo</th>\n",
       "      <th>SemanasGestacion</th>\n",
       "      <th>Observaciones</th>\n",
       "      <th>num_mes</th>\n",
       "      <th>mes</th>\n",
       "      <th>año</th>\n",
       "    </tr>\n",
       "  </thead>\n",
       "  <tbody>\n",
       "    <tr>\n",
       "      <th>0</th>\n",
       "      <td>32382</td>\n",
       "      <td>2020-12-07 20:20:34.127</td>\n",
       "      <td>LNV 202490</td>\n",
       "      <td>0801198511570</td>\n",
       "      <td>JOSUE DAVID SOLANO CERRATO</td>\n",
       "      <td>35</td>\n",
       "      <td>AÑOS</td>\n",
       "      <td>HOMBRE</td>\n",
       "      <td>SD</td>\n",
       "      <td>19</td>\n",
       "      <td>...</td>\n",
       "      <td>None</td>\n",
       "      <td>None</td>\n",
       "      <td>None</td>\n",
       "      <td>None</td>\n",
       "      <td>None</td>\n",
       "      <td>NaN</td>\n",
       "      <td></td>\n",
       "      <td>12</td>\n",
       "      <td>December</td>\n",
       "      <td>2020</td>\n",
       "    </tr>\n",
       "    <tr>\n",
       "      <th>1</th>\n",
       "      <td>32380</td>\n",
       "      <td>2020-12-07 20:15:53.620</td>\n",
       "      <td>LNV 202488</td>\n",
       "      <td>0801202009731</td>\n",
       "      <td>MATEO SEBASTIAN SALVADOR AVILA</td>\n",
       "      <td>1</td>\n",
       "      <td>MESES</td>\n",
       "      <td>HOMBRE</td>\n",
       "      <td>SD</td>\n",
       "      <td>19</td>\n",
       "      <td>...</td>\n",
       "      <td>None</td>\n",
       "      <td>None</td>\n",
       "      <td>None</td>\n",
       "      <td>None</td>\n",
       "      <td>None</td>\n",
       "      <td>NaN</td>\n",
       "      <td></td>\n",
       "      <td>12</td>\n",
       "      <td>December</td>\n",
       "      <td>2020</td>\n",
       "    </tr>\n",
       "    <tr>\n",
       "      <th>2</th>\n",
       "      <td>25795</td>\n",
       "      <td>2020-12-01 13:26:44.477</td>\n",
       "      <td>LNV 195903</td>\n",
       "      <td>P-3700</td>\n",
       "      <td>JOSUE FERNANDO PASCUAL TORRES</td>\n",
       "      <td>31</td>\n",
       "      <td>AÑOS</td>\n",
       "      <td>HOMBRE</td>\n",
       "      <td>SD</td>\n",
       "      <td>19</td>\n",
       "      <td>...</td>\n",
       "      <td>None</td>\n",
       "      <td>None</td>\n",
       "      <td>None</td>\n",
       "      <td>None</td>\n",
       "      <td>None</td>\n",
       "      <td>NaN</td>\n",
       "      <td></td>\n",
       "      <td>12</td>\n",
       "      <td>December</td>\n",
       "      <td>2020</td>\n",
       "    </tr>\n",
       "    <tr>\n",
       "      <th>3</th>\n",
       "      <td>31965</td>\n",
       "      <td>2020-12-07 15:04:56.323</td>\n",
       "      <td>LNV 202073</td>\n",
       "      <td>0704199400390</td>\n",
       "      <td>JUSSARA SIBELLY AVILA RODRIGUEZ</td>\n",
       "      <td>27</td>\n",
       "      <td>AÑOS</td>\n",
       "      <td>MUJER</td>\n",
       "      <td>SD</td>\n",
       "      <td>19</td>\n",
       "      <td>...</td>\n",
       "      <td>None</td>\n",
       "      <td>None</td>\n",
       "      <td>None</td>\n",
       "      <td>None</td>\n",
       "      <td>None</td>\n",
       "      <td>NaN</td>\n",
       "      <td></td>\n",
       "      <td>12</td>\n",
       "      <td>December</td>\n",
       "      <td>2020</td>\n",
       "    </tr>\n",
       "    <tr>\n",
       "      <th>4</th>\n",
       "      <td>32216</td>\n",
       "      <td>2020-12-07 17:05:42.040</td>\n",
       "      <td>LNV 202324</td>\n",
       "      <td>0716199000118</td>\n",
       "      <td>JOSE MANUEL CACERES LOPEZ</td>\n",
       "      <td>30</td>\n",
       "      <td>AÑOS</td>\n",
       "      <td>HOMBRE</td>\n",
       "      <td>SD</td>\n",
       "      <td>19</td>\n",
       "      <td>...</td>\n",
       "      <td>None</td>\n",
       "      <td>None</td>\n",
       "      <td>None</td>\n",
       "      <td>None</td>\n",
       "      <td>None</td>\n",
       "      <td>NaN</td>\n",
       "      <td></td>\n",
       "      <td>12</td>\n",
       "      <td>December</td>\n",
       "      <td>2020</td>\n",
       "    </tr>\n",
       "  </tbody>\n",
       "</table>\n",
       "<p>5 rows × 57 columns</p>\n",
       "</div>"
      ],
      "text/plain": [
       "   OrdenLaboratorioDetalleId   FechaRecepcionMuestra CodigoMuestra  \\\n",
       "0                      32382 2020-12-07 20:20:34.127    LNV 202490   \n",
       "1                      32380 2020-12-07 20:15:53.620    LNV 202488   \n",
       "2                      25795 2020-12-01 13:26:44.477    LNV 195903   \n",
       "3                      31965 2020-12-07 15:04:56.323    LNV 202073   \n",
       "4                      32216 2020-12-07 17:05:42.040    LNV 202324   \n",
       "\n",
       "      Expediente                   NombreCompleto  Edad TipoEdad    Sexo  \\\n",
       "0  0801198511570       JOSUE DAVID SOLANO CERRATO    35     AÑOS  HOMBRE   \n",
       "1  0801202009731   MATEO SEBASTIAN SALVADOR AVILA     1    MESES  HOMBRE   \n",
       "2         P-3700    JOSUE FERNANDO PASCUAL TORRES    31     AÑOS  HOMBRE   \n",
       "3  0704199400390  JUSSARA SIBELLY AVILA RODRIGUEZ    27     AÑOS   MUJER   \n",
       "4  0716199000118        JOSE MANUEL CACERES LOPEZ    30     AÑOS  HOMBRE   \n",
       "\n",
       "  Ocupacion  Region  ... Inmunosupresion AlcoholismoCronico  \\\n",
       "0        SD      19  ...            None               None   \n",
       "1        SD      19  ...            None               None   \n",
       "2        SD      19  ...            None               None   \n",
       "3        SD      19  ...            None               None   \n",
       "4        SD      19  ...            None               None   \n",
       "\n",
       "  EnfermedadNeurologicaCronica Tabaquismo Embarazo SemanasGestacion  \\\n",
       "0                         None       None     None              NaN   \n",
       "1                         None       None     None              NaN   \n",
       "2                         None       None     None              NaN   \n",
       "3                         None       None     None              NaN   \n",
       "4                         None       None     None              NaN   \n",
       "\n",
       "  Observaciones num_mes       mes   año  \n",
       "0                    12  December  2020  \n",
       "1                    12  December  2020  \n",
       "2                    12  December  2020  \n",
       "3                    12  December  2020  \n",
       "4                    12  December  2020  \n",
       "\n",
       "[5 rows x 57 columns]"
      ]
     },
     "execution_count": 2,
     "metadata": {},
     "output_type": "execute_result"
    }
   ],
   "source": [
    "## importar librerias\n",
    "import sidetable\n",
    "import datetime\n",
    "\n",
    "## crear nuevas columnas de mes y año en el data frame\n",
    "df['num_mes'] = df['FechaResultado'].dt.month\n",
    "df['mes'] = df['FechaResultado'].dt.strftime(\"%B\")\n",
    "df['año'] = df['FechaResultado'].dt.year\n",
    "\n",
    "df.head()\n"
   ]
  },
  {
   "cell_type": "code",
   "execution_count": 380,
   "metadata": {},
   "outputs": [
    {
     "data": {
      "text/html": [
       "<style type=\"text/css\">\n",
       "</style>\n",
       "<table id=\"T_4b916\">\n",
       "  <thead>\n",
       "    <tr>\n",
       "      <th class=\"blank level0\" >&nbsp;</th>\n",
       "      <th id=\"T_4b916_level0_col0\" class=\"col_heading level0 col0\" >Resultado</th>\n",
       "      <th id=\"T_4b916_level0_col1\" class=\"col_heading level0 col1\" >count</th>\n",
       "      <th id=\"T_4b916_level0_col2\" class=\"col_heading level0 col2\" >percent</th>\n",
       "      <th id=\"T_4b916_level0_col3\" class=\"col_heading level0 col3\" >cumulative_count</th>\n",
       "      <th id=\"T_4b916_level0_col4\" class=\"col_heading level0 col4\" >cumulative_percent</th>\n",
       "    </tr>\n",
       "  </thead>\n",
       "  <tbody>\n",
       "    <tr>\n",
       "      <th id=\"T_4b916_level0_row0\" class=\"row_heading level0 row0\" >0</th>\n",
       "      <td id=\"T_4b916_row0_col0\" class=\"data row0 col0\" >NEGATIVO</td>\n",
       "      <td id=\"T_4b916_row0_col1\" class=\"data row0 col1\" >824,751</td>\n",
       "      <td id=\"T_4b916_row0_col2\" class=\"data row0 col2\" >74.64%</td>\n",
       "      <td id=\"T_4b916_row0_col3\" class=\"data row0 col3\" >824,751</td>\n",
       "      <td id=\"T_4b916_row0_col4\" class=\"data row0 col4\" >74.64%</td>\n",
       "    </tr>\n",
       "    <tr>\n",
       "      <th id=\"T_4b916_level0_row1\" class=\"row_heading level0 row1\" >1</th>\n",
       "      <td id=\"T_4b916_row1_col0\" class=\"data row1 col0\" >POSITIVO</td>\n",
       "      <td id=\"T_4b916_row1_col1\" class=\"data row1 col1\" >278,283</td>\n",
       "      <td id=\"T_4b916_row1_col2\" class=\"data row1 col2\" >25.18%</td>\n",
       "      <td id=\"T_4b916_row1_col3\" class=\"data row1 col3\" >1,103,034</td>\n",
       "      <td id=\"T_4b916_row1_col4\" class=\"data row1 col4\" >99.82%</td>\n",
       "    </tr>\n",
       "    <tr>\n",
       "      <th id=\"T_4b916_level0_row2\" class=\"row_heading level0 row2\" >2</th>\n",
       "      <td id=\"T_4b916_row2_col0\" class=\"data row2 col0\" >NO SE PROCESO</td>\n",
       "      <td id=\"T_4b916_row2_col1\" class=\"data row2 col1\" >1,331</td>\n",
       "      <td id=\"T_4b916_row2_col2\" class=\"data row2 col2\" >0.12%</td>\n",
       "      <td id=\"T_4b916_row2_col3\" class=\"data row2 col3\" >1,104,365</td>\n",
       "      <td id=\"T_4b916_row2_col4\" class=\"data row2 col4\" >99.95%</td>\n",
       "    </tr>\n",
       "    <tr>\n",
       "      <th id=\"T_4b916_level0_row3\" class=\"row_heading level0 row3\" >3</th>\n",
       "      <td id=\"T_4b916_row3_col0\" class=\"data row3 col0\" >REPETIR</td>\n",
       "      <td id=\"T_4b916_row3_col1\" class=\"data row3 col1\" >607</td>\n",
       "      <td id=\"T_4b916_row3_col2\" class=\"data row3 col2\" >0.05%</td>\n",
       "      <td id=\"T_4b916_row3_col3\" class=\"data row3 col3\" >1,104,972</td>\n",
       "      <td id=\"T_4b916_row3_col4\" class=\"data row3 col4\" >100.00%</td>\n",
       "    </tr>\n",
       "  </tbody>\n",
       "</table>\n"
      ],
      "text/plain": [
       "<pandas.io.formats.style.Styler at 0x2410981e7d0>"
      ]
     },
     "execution_count": 380,
     "metadata": {},
     "output_type": "execute_result"
    }
   ],
   "source": [
    "df.stb.freq(['Resultado'], style=True)"
   ]
  },
  {
   "cell_type": "code",
   "execution_count": 3,
   "metadata": {},
   "outputs": [],
   "source": [
    "## crear condiciones para filtrar datos para pruebas de COVID\n",
    "condicion1 = df.Prueba.isin([\"SARS CoV-2 (ANTIGENO-RDT)\",\"SARS CoV-2 (RT-PCR)\"])\n",
    "condicion2 = df[\"año\"]>2019\n",
    "\n",
    "## ejecutar filtro de datos\n",
    "df_covid = df[condicion1 & condicion2]"
   ]
  },
  {
   "cell_type": "markdown",
   "metadata": {},
   "source": [
    "### Creacion de tabla de frecuencias absolutas y relativas de Casos x Año en Honduras"
   ]
  },
  {
   "cell_type": "code",
   "execution_count": 4,
   "metadata": {},
   "outputs": [
    {
     "name": "stdout",
     "output_type": "stream",
     "text": [
      "    año  poblacion  NEGATIVO  POSITIVO  Total_Muestras Positividad%  \\\n",
      "0  2020    9304380     21651     11102           32753          34%   \n",
      "1  2021    9450711    427223    182486          609709          30%   \n",
      "2  2022    9597739    307826     81106          388932          21%   \n",
      "3  2023    9745149     69278      3659           72937           5%   \n",
      "\n",
      "   Tasa_100mil  \n",
      "0          119  \n",
      "1         1931  \n",
      "2          845  \n",
      "3           38  \n"
     ]
    }
   ],
   "source": [
    "## Crear tabla  que muestre la tasa de incidencia de casos por año en Honduras\n",
    "## Y Ademas muestre el % de positividad de casos acumulados por año\n",
    "## tasa calculada por 100,000 habitantes\n",
    "\n",
    "# paso1. crear una tabla resumen agrupando los casos por año\n",
    "df_Totales = df_covid.groupby(['año','Resultado']).size().reset_index(name='casos')\n",
    "df_Totales = df_Totales.pivot(index=\"año\",columns=\"Resultado\", values=\"casos\")\n",
    "\n",
    "# paso2. importar data set de la poblacion de Honduras por año\n",
    "df_poblacion = pd.read_excel(\"../dataset/poblacionHN.xlsx\")\n",
    "\n",
    "# paso3. crear un join con el data frame de poblacion y \n",
    "# agregar un campo calculando la tasa * 100,000 habitantes\n",
    "# agregar un campo calculando % Positividad\n",
    "# inner join con tabla de poblacion\n",
    "df_Totales = pd.merge(df_Totales,df_poblacion, on='año',how='inner')\n",
    "df_Totales['Tasa_100mil'] = (round((df_Totales['POSITIVO'] / df_Totales['poblacion']) * 100000)).astype('int')\n",
    "df_Totales['Total_Muestras'] = df_Totales['NEGATIVO']+df_Totales['POSITIVO']\n",
    "df_Totales['Positividad%'] = (df_Totales['POSITIVO'] / df_Totales['Total_Muestras']).apply('{:.0%}'.format)\n",
    "df_Totales['año'] = df_Totales['año'].astype('string')\n",
    "\n",
    "# Seleccion de Columnas\n",
    "df_Totales = df_Totales[[\"año\",\"poblacion\",\"NEGATIVO\",\"POSITIVO\",\"Total_Muestras\",\"Positividad%\",\"Tasa_100mil\"]]\n",
    "df_Totales.to_excel(\"../resultados/df_Totales.xlsx\")\n",
    "print(df_Totales)"
   ]
  },
  {
   "cell_type": "markdown",
   "metadata": {},
   "source": [
    "### Grafico_1 Incidencia de Casos de COVID19 por Año en Honduras"
   ]
  },
  {
   "cell_type": "code",
   "execution_count": 7,
   "metadata": {},
   "outputs": [
    {
     "data": {
      "text/plain": [
       "'../resultados/Bar_Plot_IncidenciaByAnio.html'"
      ]
     },
     "execution_count": 7,
     "metadata": {},
     "output_type": "execute_result"
    }
   ],
   "source": [
    "## Crear grafico de barras con plotly  para visualizar la incidencia de casos por año en Honduras\n",
    "## tasa calculada por 100,000 habitantes\n",
    "## Tasa Incidencia = (Positivos / Poblacion) x 100 mil habitantes\n",
    "\n",
    "import plotly.offline as pyo \n",
    "import plotly.express as px\n",
    "import plotly.graph_objs as go \n",
    "\n",
    "data = [go.Bar(x=df_Totales[\"año\"],y=df_Totales[\"Tasa_100mil\"],marker={\"color\":\"#2E7DA1\"})]\n",
    "layout = go.Layout(title=\"Incidencia de Casos de COVID19 por Año en Honduras\", font=dict(size=18),\n",
    "                   yaxis=dict(title=\"Tasa x 100,000 Habitantes\"),\n",
    "                   xaxis=dict(title=\"Años\")                   \n",
    "                   )\n",
    "\n",
    "fig = go.Figure(data=data, layout=layout)\n",
    "pyo.plot(fig,filename=\"../resultados/Bar_Plot_IncidenciaByAnio.html\")\n",
    "### Codigo para libreria plotly express\n",
    "# fig1 = px.bar(df_Totales, x=\"año\", y=\"tasa\", color=\"año\")\n",
    "# fig1.show()\n"
   ]
  },
  {
   "cell_type": "markdown",
   "metadata": {},
   "source": [
    "### Grafico_2 % de Positividad Casos de COVID19 por Año en Honduras"
   ]
  },
  {
   "cell_type": "code",
   "execution_count": 310,
   "metadata": {},
   "outputs": [
    {
     "data": {
      "text/plain": [
       "'../resultados/Bar_Plot_PositividadByAnio.html'"
      ]
     },
     "execution_count": 310,
     "metadata": {},
     "output_type": "execute_result"
    }
   ],
   "source": [
    "## Crear grafico de barras con plotly  para visualizar el % de Positividad de casos acumulados por año en Honduras\n",
    "## Positividad = Positivos / Total Muestras\n",
    "\n",
    "df_Totales['Positividad%'] = df_Totales['POSITIVO'] / df_Totales['Total_Muestras']\n",
    "\n",
    "data = [go.Bar(x=df_Totales[\"año\"],y=df_Totales[\"Positividad%\"],marker={\"color\":\"#38BCB0\"})]\n",
    "layout = go.Layout(title=\"% Positividad COVID19 por Año en Honduras\", font=dict(size=18),\n",
    "                   yaxis=dict(title=\" % de Positividad\", tickformat=\".0%\"),\n",
    "                   xaxis=dict(title=\"Años\")                   \n",
    "                   )\n",
    "\n",
    "fig = go.Figure(data=data, layout=layout)\n",
    "pyo.plot(fig,filename=\"../resultados/Bar_Plot_PositividadByAnio.html\")"
   ]
  },
  {
   "cell_type": "markdown",
   "metadata": {},
   "source": [
    "### Tabla de Serie Temporal de %Positividad a Nivel Nacional\n",
    "#### Grafico_3 Serie temporal % positividad en Honduras"
   ]
  },
  {
   "cell_type": "code",
   "execution_count": 8,
   "metadata": {},
   "outputs": [
    {
     "name": "stderr",
     "output_type": "stream",
     "text": [
      "C:\\Users\\wsilva\\AppData\\Local\\Temp\\ipykernel_19044\\2303171198.py:2: SettingWithCopyWarning:\n",
      "\n",
      "\n",
      "A value is trying to be set on a copy of a slice from a DataFrame.\n",
      "Try using .loc[row_indexer,col_indexer] = value instead\n",
      "\n",
      "See the caveats in the documentation: https://pandas.pydata.org/pandas-docs/stable/user_guide/indexing.html#returning-a-view-versus-a-copy\n",
      "\n",
      "C:\\Users\\wsilva\\AppData\\Local\\Programs\\Python\\Python311\\Lib\\site-packages\\plotly\\graph_objs\\_deprecations.py:378: DeprecationWarning:\n",
      "\n",
      "plotly.graph_objs.Line is deprecated.\n",
      "Please replace it with one of the following more specific types\n",
      "  - plotly.graph_objs.scatter.Line\n",
      "  - plotly.graph_objs.layout.shape.Line\n",
      "  - etc.\n",
      "\n",
      "\n"
     ]
    }
   ],
   "source": [
    "## Dar Formato al campo Fecha Resultado y crear nueva columna tipo Fecha Corta\n",
    "df_covid['Fecha'] = df_covid[\"FechaResultado\"].astype(str).str[:10]\n",
    "\n",
    "# paso1. crear una tabla resumen agrupando los casos por Fecha\n",
    "df_SerieTemp = df_covid.groupby(['Fecha','Resultado']).size().reset_index(name='casos')\n",
    "\n",
    "# paso2. crear una tabla pivote y crear las columnas calculadas\n",
    "df_SerieTemp = df_SerieTemp.pivot(index=\"Fecha\",columns=\"Resultado\", values=\"casos\")\n",
    "df_SerieTemp['Total_Muestras'] = df_SerieTemp['POSITIVO'] + df_SerieTemp['NEGATIVO'] \n",
    "df_SerieTemp['Positividad%'] = (df_SerieTemp['POSITIVO'] / df_SerieTemp['Total_Muestras'])#.apply('{:.0%}'.format)\n",
    "# quitar comentario de formato % para la tabla, para graficar dejar comentado\n",
    "\n",
    "# paso3. Convertir la tabla pivote a tabla y seleccionar las columnas para graficar la serie temporal\n",
    "df_Tabla = df_SerieTemp.reset_index().fillna(0)\n",
    "df_Tabla = df_Tabla[[\"Fecha\",\"NEGATIVO\",\"POSITIVO\",\"Total_Muestras\",\"Positividad%\"]]\n",
    "\n",
    "# paso4. Crear la Grafica\n",
    "import numpy as np\n",
    "\n",
    "x0 = df_Tabla[\"Fecha\"].iloc[0]            # La primera\n",
    "x1 = df_Tabla[\"Fecha\"].iloc[-1]           # La última\n",
    "xm = df_Tabla[\"Fecha\"].iloc[len(df_Tabla)//2]   # La del medio\n",
    "mean_positividad = np.mean(df_Tabla[\"Positividad%\"])\n",
    "\n",
    "\n",
    "data = [go.Line(x=df_Tabla[\"Fecha\"],y=df_Tabla[\"Positividad%\"],marker={\"color\":\"#38BCB0\"})]\n",
    "layout = go.Layout(title=\"% Positividad COVID19 por Año en Honduras\", font=dict(size=18),\n",
    "                   yaxis=dict(title=\" % de Positividad\", tickformat=\".0%\"),\n",
    "                   xaxis=dict(title=\"FECHA (Mes / Año)\")                   \n",
    "                   )\n",
    "\n",
    "fig = go.Figure(data=data, layout=layout)\n",
    "\n",
    "fig.add_shape(type=\"line\",\n",
    "    x0=x0, y0=mean_positividad, x1=x1, y1=mean_positividad,\n",
    "    line=dict(color=\"Red\",width=3)\n",
    " )\n",
    "\n",
    "fig.add_annotation(x=xm, y=mean_positividad,\n",
    "            text='Promedio Nacional de Positividad',\n",
    "            showarrow=False,\n",
    "            yshift=10)\n",
    "\n",
    "pyo.plot(fig,filename=\"../resultados/Line_Plot_PositividadHNByFecha.html\")\n",
    "\n",
    "#df_Tabla\n",
    "df_Tabla.to_excel(\"../resultados/df_Tabla.xlsx\")\n",
    "\n",
    "#fig= px.line(df_Tabla, x='Fecha', y='Positividad%')\n",
    "#fig.show()\n",
    "\n",
    "\n",
    "\n",
    "\n"
   ]
  },
  {
   "cell_type": "markdown",
   "metadata": {},
   "source": [
    "### Crear Tabla de Incidencia de Casos y % de Positividad x Departamento en Honduras"
   ]
  },
  {
   "cell_type": "code",
   "execution_count": 5,
   "metadata": {},
   "outputs": [],
   "source": [
    "df_poblacionByDepto = pd.read_excel(\"../dataset/PoblacionHNByDepto.xlsx\")\n",
    "df_poblacionByDepto['poblacion']= df_poblacionByDepto['Urbano Año 2021']+df_poblacionByDepto['Rural Año 2021']\n",
    "\n",
    "var_anio = 2021\n",
    "\n",
    "#print(df_covid.columns)\n",
    "# paso1. crear una tabla resumen agrupando los casos por departamento y filtrando por año\n",
    "#df_TotalesByDepto = df_covid[df_covid['año']].groupby(['Departamento','Resultado']).size().reset_index(name='casos')\n",
    "df_TotalesByDepto = df_covid.groupby(['Departamento','Resultado']).size().reset_index(name='casos')\n",
    "df_TotalesByDepto = df_TotalesByDepto.pivot(index=\"Departamento\",columns=\"Resultado\", values=\"casos\")\n",
    "\n",
    "# paso2 . crear inner join con tabla de poblacion por departamento\n",
    "# Crear nuevas columnas calculando el % de poblacion y tasa de incidencia\n",
    "# inner join con tabla de poblacion\n",
    "df_TotalesByDepto = pd.merge(df_TotalesByDepto,df_poblacionByDepto, on='Departamento',how='inner')\n",
    "df_TotalesByDepto['Tasa_100mil'] = (round((df_TotalesByDepto['POSITIVO'] / df_TotalesByDepto['poblacion']) * 100000)).astype('int')\n",
    "df_TotalesByDepto['Total_Muestras'] = df_TotalesByDepto['POSITIVO'] + df_TotalesByDepto['NEGATIVO']\n",
    "df_TotalesByDepto['Positividad%'] = (df_TotalesByDepto['POSITIVO'] / df_TotalesByDepto['Total_Muestras'])#.apply('{:.0%}'.format)\n",
    "# quitar comentario de formato % para la tabla, para graficar dejar comentado\n",
    "\n",
    "# Seleccion de Columnas\n",
    "df_mapa = df_TotalesByDepto[[\"Departamento\",\"Latitud\",\"Longitud\",\"Tasa_100mil\"]]\n",
    "df_TotalesByDepto = df_TotalesByDepto[[\"Departamento\",\"poblacion\",\"NEGATIVO\",\"POSITIVO\",\"Total_Muestras\",\"Positividad%\",\"Tasa_100mil\"]]\n",
    "\n",
    "df_TotalesByDepto\n",
    "df_mapa\n",
    "## Exportar Data Frame\n",
    "df_TotalesByDepto.to_excel(\"../resultados/df_TotalesByDepto.xlsx\")\n",
    "df_mapa.to_excel(\"../resultados/df_mapa.xlsx\")\n",
    "#df_poblacionByDepto"
   ]
  },
  {
   "cell_type": "markdown",
   "metadata": {},
   "source": [
    "### Grafico_4 Incidencia de Casos de COVID19 por Departamento "
   ]
  },
  {
   "cell_type": "code",
   "execution_count": 313,
   "metadata": {},
   "outputs": [
    {
     "data": {
      "text/plain": [
       "'../resultados/Bar_Plot_IncidenciaByDepto.html'"
      ]
     },
     "execution_count": 313,
     "metadata": {},
     "output_type": "execute_result"
    }
   ],
   "source": [
    "## Crear grafico de barras con plotly  para visualizar la incidencia de casos por Departamento\n",
    "## tasa calculada por 100,000 habitantes\n",
    "## Tasa Incidencia = (Positivos / Poblacion) x 100 mil habitantes\n",
    "\n",
    "import plotly.offline as pyo \n",
    "import plotly.express as px\n",
    "import plotly.graph_objs as go \n",
    "import numpy as np\n",
    "\n",
    "## Ordenar el Data Frame\n",
    "df_TotalesByDepto = df_TotalesByDepto.sort_values(by=\"Tasa_100mil\",ascending=False)\n",
    "\n",
    "\n",
    "x0 = df_TotalesByDepto[\"Departamento\"].iloc[0]            # La primera\n",
    "x1 = df_TotalesByDepto[\"Departamento\"].iloc[-1]           # La última\n",
    "xm = df_TotalesByDepto[\"Departamento\"].iloc[len(df_TotalesByDepto)//2]   # La del medio\n",
    "mean_tasa = np.mean(df_TotalesByDepto[\"Tasa_100mil\"])\n",
    "\n",
    "\n",
    "\n",
    "data = [go.Bar(x=df_TotalesByDepto[\"Departamento\"],y=df_TotalesByDepto[\"Tasa_100mil\"],marker={\"color\":\"#2E7DA1\"})]\n",
    "layout = go.Layout(title=\"Incidencia de Casos de COVID19 por Departamento\", font=dict(size=18),\n",
    "                   yaxis=dict(title=\"Tasa x 100,000 Habitantes\"),\n",
    "                   xaxis=dict(title=\"Departamentos\")                   \n",
    "                   )\n",
    "\n",
    "fig = go.Figure(data=data, layout=layout)\n",
    "\n",
    "\n",
    "fig.add_shape(type=\"line\",\n",
    "    x0=x0, y0=mean_tasa, x1=x1, y1=mean_tasa,\n",
    "    line=dict(color=\"Red\",width=3)\n",
    " )\n",
    "\n",
    "fig.add_annotation(x=xm, y=mean_tasa,\n",
    "            text='Tasa Promedio Nacional',\n",
    "            showarrow=False,\n",
    "            yshift=10)\n",
    "\n",
    "pyo.plot(fig,filename=\"../resultados/Bar_Plot_IncidenciaByDepto.html\")\n",
    "### Codigo para libreria plotly express\n",
    "# fig1 = px.bar(df_Totales, x=\"año\", y=\"tasa\", color=\"año\")\n",
    "# fig1.show()"
   ]
  },
  {
   "cell_type": "markdown",
   "metadata": {},
   "source": [
    "### Creacion de Mapa Segun la Incidencia de Covid en Honduras"
   ]
  },
  {
   "cell_type": "code",
   "execution_count": 318,
   "metadata": {},
   "outputs": [
    {
     "data": {
      "text/plain": [
       "'../resultados/Geomap_IncidenciaCovidHN.html'"
      ]
     },
     "execution_count": 318,
     "metadata": {},
     "output_type": "execute_result"
    }
   ],
   "source": [
    "#Importación de librerías\n",
    "import plotly.offline as pyo\n",
    "import plotly.graph_objs as go\n",
    "import pandas as pd\n",
    "\n",
    "#Carga de datos\n",
    "#df_mapa \n",
    "\n",
    "#Definimos la cadena con el token de la cuenta de mapbox\n",
    "mapbox_access_token = \"pk.eyJ1Ijoid25zZyIsImEiOiJjbGliOTQ2NGwwOWw0M2V0NzVveWc0OWRoIn0.ENqvqKKlrZerjSufywTKfg\"#open(\".mapbox_token\").read()\n",
    "\n",
    "#Creamos directamente la figura, obviamos data puesto que directamente lo definimos como el primer argumento de Figure\n",
    "fig = go.Figure(go.Scattermapbox(\n",
    "        lon = df_mapa['Longitud'], #Seleccionamos nuestra columna con la coordenada longitud\n",
    "        lat = df_mapa['Latitud'], #Seleccionamos nuestra columna con la coordenada latitud\n",
    "        mode='markers', text=df_mapa['Tasa_100mil'],\n",
    "        marker=go.scattermapbox.Marker(\n",
    "            size=df_mapa[\"Tasa_100mil\"]/40, #Indicamos que el tamaño dependa del tráfico promedio de peatones y escalamos entre 10 para no inundar el mapa\n",
    "            color=df_mapa[\"Tasa_100mil\"] #Indicamos que el color dependa del tráfico promedio de peatones (podemos usar otra variable)\n",
    "        )\n",
    "    ))\n",
    "\n",
    "#Actualizamos la propiedad \"layout\" de la figura\n",
    "fig.update_layout(\n",
    "    autosize=True,\n",
    "    hovermode='closest', #muestra el dato más cercano al mover el cursor por el gráfico\n",
    "    mapbox=dict(\n",
    "        accesstoken=mapbox_access_token,\n",
    "        center=dict(\n",
    "            lat=14.754, #coordenadas del centro de nuestro mapa inicial\n",
    "            lon=-86.429 #coordenadas del centro de nuestro mapa inicial\n",
    "        ),\n",
    "        zoom=7 #zoom inicial del mapa\n",
    "    ),\n",
    ")\n",
    "\n",
    "pyo.plot(fig, filename=\"../resultados/Geomap_IncidenciaCovidHN.html\")"
   ]
  },
  {
   "cell_type": "markdown",
   "metadata": {},
   "source": [
    "### Creacion de tabla  para comparar la incidencia de casos covid entre los 2 departamentos con mayor poblacion en Honduras"
   ]
  },
  {
   "cell_type": "code",
   "execution_count": 327,
   "metadata": {},
   "outputs": [
    {
     "data": {
      "text/html": [
       "<div>\n",
       "<style scoped>\n",
       "    .dataframe tbody tr th:only-of-type {\n",
       "        vertical-align: middle;\n",
       "    }\n",
       "\n",
       "    .dataframe tbody tr th {\n",
       "        vertical-align: top;\n",
       "    }\n",
       "\n",
       "    .dataframe thead th {\n",
       "        text-align: right;\n",
       "    }\n",
       "</style>\n",
       "<table border=\"1\" class=\"dataframe\">\n",
       "  <thead>\n",
       "    <tr style=\"text-align: right;\">\n",
       "      <th>Departamento</th>\n",
       "      <th>Fecha</th>\n",
       "      <th>CORTES</th>\n",
       "      <th>FRANCISCO MORAZAN</th>\n",
       "      <th>tasa_Cortes</th>\n",
       "      <th>tasa_FM</th>\n",
       "    </tr>\n",
       "  </thead>\n",
       "  <tbody>\n",
       "    <tr>\n",
       "      <th>0</th>\n",
       "      <td>2021-01-01</td>\n",
       "      <td>0.0</td>\n",
       "      <td>54.0</td>\n",
       "      <td>0</td>\n",
       "      <td>3</td>\n",
       "    </tr>\n",
       "    <tr>\n",
       "      <th>1</th>\n",
       "      <td>2021-01-02</td>\n",
       "      <td>0.0</td>\n",
       "      <td>55.0</td>\n",
       "      <td>0</td>\n",
       "      <td>3</td>\n",
       "    </tr>\n",
       "    <tr>\n",
       "      <th>2</th>\n",
       "      <td>2021-01-03</td>\n",
       "      <td>0.0</td>\n",
       "      <td>66.0</td>\n",
       "      <td>0</td>\n",
       "      <td>4</td>\n",
       "    </tr>\n",
       "    <tr>\n",
       "      <th>3</th>\n",
       "      <td>2021-01-04</td>\n",
       "      <td>0.0</td>\n",
       "      <td>43.0</td>\n",
       "      <td>0</td>\n",
       "      <td>3</td>\n",
       "    </tr>\n",
       "    <tr>\n",
       "      <th>4</th>\n",
       "      <td>2021-01-05</td>\n",
       "      <td>0.0</td>\n",
       "      <td>103.0</td>\n",
       "      <td>0</td>\n",
       "      <td>6</td>\n",
       "    </tr>\n",
       "    <tr>\n",
       "      <th>...</th>\n",
       "      <td>...</td>\n",
       "      <td>...</td>\n",
       "      <td>...</td>\n",
       "      <td>...</td>\n",
       "      <td>...</td>\n",
       "    </tr>\n",
       "    <tr>\n",
       "      <th>360</th>\n",
       "      <td>2021-12-27</td>\n",
       "      <td>28.0</td>\n",
       "      <td>44.0</td>\n",
       "      <td>2</td>\n",
       "      <td>3</td>\n",
       "    </tr>\n",
       "    <tr>\n",
       "      <th>361</th>\n",
       "      <td>2021-12-28</td>\n",
       "      <td>18.0</td>\n",
       "      <td>70.0</td>\n",
       "      <td>1</td>\n",
       "      <td>4</td>\n",
       "    </tr>\n",
       "    <tr>\n",
       "      <th>362</th>\n",
       "      <td>2021-12-29</td>\n",
       "      <td>12.0</td>\n",
       "      <td>79.0</td>\n",
       "      <td>1</td>\n",
       "      <td>5</td>\n",
       "    </tr>\n",
       "    <tr>\n",
       "      <th>363</th>\n",
       "      <td>2021-12-30</td>\n",
       "      <td>35.0</td>\n",
       "      <td>109.0</td>\n",
       "      <td>2</td>\n",
       "      <td>6</td>\n",
       "    </tr>\n",
       "    <tr>\n",
       "      <th>364</th>\n",
       "      <td>2021-12-31</td>\n",
       "      <td>15.0</td>\n",
       "      <td>115.0</td>\n",
       "      <td>1</td>\n",
       "      <td>7</td>\n",
       "    </tr>\n",
       "  </tbody>\n",
       "</table>\n",
       "<p>365 rows × 5 columns</p>\n",
       "</div>"
      ],
      "text/plain": [
       "Departamento       Fecha  CORTES  FRANCISCO MORAZAN  tasa_Cortes  tasa_FM\n",
       "0             2021-01-01     0.0               54.0            0        3\n",
       "1             2021-01-02     0.0               55.0            0        3\n",
       "2             2021-01-03     0.0               66.0            0        4\n",
       "3             2021-01-04     0.0               43.0            0        3\n",
       "4             2021-01-05     0.0              103.0            0        6\n",
       "..                   ...     ...                ...          ...      ...\n",
       "360           2021-12-27    28.0               44.0            2        3\n",
       "361           2021-12-28    18.0               70.0            1        4\n",
       "362           2021-12-29    12.0               79.0            1        5\n",
       "363           2021-12-30    35.0              109.0            2        6\n",
       "364           2021-12-31    15.0              115.0            1        7\n",
       "\n",
       "[365 rows x 5 columns]"
      ]
     },
     "execution_count": 327,
     "metadata": {},
     "output_type": "execute_result"
    }
   ],
   "source": [
    "#df_poblacionByDepto = pd.read_excel(\"../dataset/PoblacionHNByDepto.xlsx\")\n",
    "#df_poblacionByDepto['poblacion']= df_poblacionByDepto['Urbano Año 2021']+df_poblacionByDepto['Rural Año 2021']\n",
    "\n",
    "var_anio = 2021\n",
    "var_Depto1 =\"FRANCISCO MORAZAN\"\n",
    "var_Depto2 =\"CORTES\"\n",
    "var_pobDepto1 = 1699753\n",
    "var_pobDepto2 = 1818981\n",
    "\n",
    "## crear condiciones para filtrar datos para pruebas de COVID\n",
    "condicion1 = df_covid.Departamento.isin([var_Depto1,var_Depto2])\n",
    "condicion2 = df_covid[\"año\"]==2021\n",
    "condicion3 = df_covid[\"Resultado\"]==\"POSITIVO\"\n",
    "\n",
    "## ejecutar filtro de datos\n",
    "df_covid_Deptos = df_covid[condicion1 & condicion2 & condicion3]\n",
    "\n",
    "\n",
    "#print(df_covid.columns)\n",
    "# paso1. crear una tabla resumen agrupando los casos por departamento y filtrando por año\n",
    "df_RelDeptos = df_covid_Deptos.groupby(['Fecha','Departamento'], as_index=False).agg({'Resultado':'count'})\n",
    "df_RelDeptos = df_RelDeptos.pivot(index=\"Fecha\",columns=\"Departamento\", values=\"Resultado\")\n",
    "\n",
    "# paso3. Convertir la tabla pivote a tabla y seleccionar las columnas para graficar la serie temporal\n",
    "df_RelDeptos = df_RelDeptos.reset_index().fillna(0)\n",
    "df_RelDeptos['tasa_Cortes'] = (round((df_RelDeptos['CORTES'] / var_pobDepto2) * 100000)).astype('int')\n",
    "df_RelDeptos['tasa_FM'] = (round((df_RelDeptos['FRANCISCO MORAZAN'] / var_pobDepto1) * 100000)).astype('int')\n",
    "\n",
    "\n",
    "\n",
    "\n",
    "df_RelDeptos\n"
   ]
  },
  {
   "cell_type": "markdown",
   "metadata": {},
   "source": [
    "### Grafica para comparar la incidencia de casos entre Francisco Morazan y Cortes \n",
    "### Departamentos con mayor poblacion en Honduras."
   ]
  },
  {
   "cell_type": "code",
   "execution_count": 328,
   "metadata": {},
   "outputs": [
    {
     "data": {
      "text/plain": [
       "'../resultados/Line_plot_Incidencia_Cortes_FM.html'"
      ]
     },
     "execution_count": 328,
     "metadata": {},
     "output_type": "execute_result"
    }
   ],
   "source": [
    "\n",
    "#Carga de datos\n",
    "#df_RelDeptos\n",
    "\n",
    "#Definición de objeto de tipo lista \"data\": datos utilizados en el gráfico y el tipo de gráfico. Uso de diferentes trazas\n",
    "trace0 = go.Scatter(x=df_RelDeptos[\"Fecha\"],\n",
    "                    y=df_RelDeptos[\"tasa_Cortes\"],\n",
    "                    mode=\"lines\",\n",
    "                    name=\"CORTES\")\n",
    "\n",
    "trace1 = go.Scatter(x=df_RelDeptos[\"Fecha\"],\n",
    "                    y=df_RelDeptos[\"tasa_FM\"],\n",
    "                    mode=\"lines\",\n",
    "                    name=\"FRANCISCO MORAZAN\")\n",
    "\n",
    "data = [trace0, trace1]\n",
    "\n",
    "#Definición de objeto \"layout\": diseño del gráfico como título, nombres de ejes,...\n",
    "layout = go.Layout(title=\"Comparacion de incidencia de casos COVID Deptos.(CORTES vs FM) Año 2021\",\n",
    "                    xaxis=dict(title=\"(Mes / Año)\"),\n",
    "                    yaxis=dict(title=\"Incidencia x 100,000 Habitantes\"))\n",
    "\n",
    "#Creación de objeto \"Figure\" de Plotly a partir de los objetos data y layout creados previamente\n",
    "fig = go.Figure(data=data, layout=layout)\n",
    "#Generación del plot a partir de la figura definida y nombre del fichero de salida HTML\n",
    "pyo.plot(fig, filename=\"../resultados/Line_plot_Incidencia_Cortes_FM.html\")"
   ]
  },
  {
   "cell_type": "markdown",
   "metadata": {},
   "source": [
    "### Caracterizacion por sexo y grupo de edad para crear grafico de piramide poblacional con proporcion de positividad por sexo"
   ]
  },
  {
   "cell_type": "code",
   "execution_count": 9,
   "metadata": {},
   "outputs": [
    {
     "name": "stderr",
     "output_type": "stream",
     "text": [
      "C:\\Users\\wsilva\\AppData\\Local\\Temp\\ipykernel_19044\\901277595.py:2: SettingWithCopyWarning:\n",
      "\n",
      "\n",
      "A value is trying to be set on a copy of a slice from a DataFrame.\n",
      "Try using .loc[row_indexer,col_indexer] = value instead\n",
      "\n",
      "See the caveats in the documentation: https://pandas.pydata.org/pandas-docs/stable/user_guide/indexing.html#returning-a-view-versus-a-copy\n",
      "\n"
     ]
    }
   ],
   "source": [
    "## Crear columna rango de edad\n",
    "df_covid['RangoEdad'] = pd.cut(x=df_covid['Edad'],bins=[1,15,25,35,45,55,65,75,np.inf],\n",
    "                               labels=['< 15', '15 - 24','25 - 34','35 - 44','45 - 54','55 - 64','65 - 74','>= 75'])\n",
    "\n",
    "## Filtrar solo positivos\n",
    "in_positivos = df_covid['Resultado']==\"POSITIVO\"\n",
    "df_rango_edad = df_covid[in_positivos]\n",
    "\n",
    "\n",
    "# paso1. crear una tabla resumen agrupando los casos por rango de Edad\n",
    "df_GroupByEdades = df_rango_edad.groupby(['RangoEdad','Sexo']).size().reset_index(name='positivos')\n",
    "df_GroupByEdades = df_GroupByEdades.pivot(index=\"RangoEdad\",columns=\"Sexo\", values=\"positivos\")\n",
    "# paso3. Convertir la tabla pivote a tabla y seleccionar las columnas para graficar la serie temporal\n",
    "df_GroupByEdades = df_GroupByEdades.reset_index()\n",
    "\n",
    "df_GroupByEdades['-MUJER'] = df_GroupByEdades['MUJER'] *(-1)\n",
    "total_H = df_GroupByEdades['HOMBRE'].sum()\n",
    "total_M = df_GroupByEdades['MUJER'].sum()\n",
    "\n",
    "df_GroupByEdades['%H'] = (df_GroupByEdades['HOMBRE']/ total_H).apply('{:.0%}'.format)\n",
    "df_GroupByEdades['%M'] = ((df_GroupByEdades['MUJER']/ total_M)).apply('{:.0%}'.format)\n",
    "df_GroupByEdades\n",
    "\n",
    "df_GroupByEdades.to_excel(\"../resultados/df_GroupByEdades.xlsx\")\n",
    "\n"
   ]
  },
  {
   "cell_type": "markdown",
   "metadata": {},
   "source": [
    "### Grafico Piramide Poblacional"
   ]
  },
  {
   "cell_type": "code",
   "execution_count": 379,
   "metadata": {},
   "outputs": [
    {
     "data": {
      "application/vnd.plotly.v1+json": {
       "config": {
        "linkText": "Export to plot.ly",
        "plotlyServerURL": "https://plot.ly",
        "showLink": false
       },
       "data": [
        {
         "hoverinfo": "x",
         "marker": {
          "color": "#2E7DA1"
         },
         "name": "HOMBRES",
         "orientation": "h",
         "text": [
          10595,
          21803,
          26866,
          21286,
          15884,
          11540,
          6670,
          3756
         ],
         "type": "bar",
         "x": [
          10595,
          21803,
          26866,
          21286,
          15884,
          11540,
          6670,
          3756
         ],
         "y": [
          "< 15",
          "15 - 24",
          "25 - 34",
          "35 - 44",
          "45 - 54",
          "55 - 64",
          "65 - 74",
          ">= 75"
         ]
        },
        {
         "hoverinfo": "text",
         "marker": {
          "color": "#CD6155"
         },
         "name": "MUJERES",
         "orientation": "h",
         "text": [
          11893,
          30370,
          37760,
          30236,
          22056,
          14421,
          7424,
          3987
         ],
         "type": "bar",
         "x": [
          -11893,
          -30370,
          -37760,
          -30236,
          -22056,
          -14421,
          -7424,
          -3987
         ],
         "y": [
          "< 15",
          "15 - 24",
          "25 - 34",
          "35 - 44",
          "45 - 54",
          "55 - 64",
          "65 - 74",
          ">= 75"
         ]
        }
       ],
       "layout": {
        "bargap": 0.1,
        "barmode": "overlay",
        "template": {
         "data": {
          "bar": [
           {
            "error_x": {
             "color": "#2a3f5f"
            },
            "error_y": {
             "color": "#2a3f5f"
            },
            "marker": {
             "line": {
              "color": "#E5ECF6",
              "width": 0.5
             },
             "pattern": {
              "fillmode": "overlay",
              "size": 10,
              "solidity": 0.2
             }
            },
            "type": "bar"
           }
          ],
          "barpolar": [
           {
            "marker": {
             "line": {
              "color": "#E5ECF6",
              "width": 0.5
             },
             "pattern": {
              "fillmode": "overlay",
              "size": 10,
              "solidity": 0.2
             }
            },
            "type": "barpolar"
           }
          ],
          "carpet": [
           {
            "aaxis": {
             "endlinecolor": "#2a3f5f",
             "gridcolor": "white",
             "linecolor": "white",
             "minorgridcolor": "white",
             "startlinecolor": "#2a3f5f"
            },
            "baxis": {
             "endlinecolor": "#2a3f5f",
             "gridcolor": "white",
             "linecolor": "white",
             "minorgridcolor": "white",
             "startlinecolor": "#2a3f5f"
            },
            "type": "carpet"
           }
          ],
          "choropleth": [
           {
            "colorbar": {
             "outlinewidth": 0,
             "ticks": ""
            },
            "type": "choropleth"
           }
          ],
          "contour": [
           {
            "colorbar": {
             "outlinewidth": 0,
             "ticks": ""
            },
            "colorscale": [
             [
              0,
              "#0d0887"
             ],
             [
              0.1111111111111111,
              "#46039f"
             ],
             [
              0.2222222222222222,
              "#7201a8"
             ],
             [
              0.3333333333333333,
              "#9c179e"
             ],
             [
              0.4444444444444444,
              "#bd3786"
             ],
             [
              0.5555555555555556,
              "#d8576b"
             ],
             [
              0.6666666666666666,
              "#ed7953"
             ],
             [
              0.7777777777777778,
              "#fb9f3a"
             ],
             [
              0.8888888888888888,
              "#fdca26"
             ],
             [
              1,
              "#f0f921"
             ]
            ],
            "type": "contour"
           }
          ],
          "contourcarpet": [
           {
            "colorbar": {
             "outlinewidth": 0,
             "ticks": ""
            },
            "type": "contourcarpet"
           }
          ],
          "heatmap": [
           {
            "colorbar": {
             "outlinewidth": 0,
             "ticks": ""
            },
            "colorscale": [
             [
              0,
              "#0d0887"
             ],
             [
              0.1111111111111111,
              "#46039f"
             ],
             [
              0.2222222222222222,
              "#7201a8"
             ],
             [
              0.3333333333333333,
              "#9c179e"
             ],
             [
              0.4444444444444444,
              "#bd3786"
             ],
             [
              0.5555555555555556,
              "#d8576b"
             ],
             [
              0.6666666666666666,
              "#ed7953"
             ],
             [
              0.7777777777777778,
              "#fb9f3a"
             ],
             [
              0.8888888888888888,
              "#fdca26"
             ],
             [
              1,
              "#f0f921"
             ]
            ],
            "type": "heatmap"
           }
          ],
          "heatmapgl": [
           {
            "colorbar": {
             "outlinewidth": 0,
             "ticks": ""
            },
            "colorscale": [
             [
              0,
              "#0d0887"
             ],
             [
              0.1111111111111111,
              "#46039f"
             ],
             [
              0.2222222222222222,
              "#7201a8"
             ],
             [
              0.3333333333333333,
              "#9c179e"
             ],
             [
              0.4444444444444444,
              "#bd3786"
             ],
             [
              0.5555555555555556,
              "#d8576b"
             ],
             [
              0.6666666666666666,
              "#ed7953"
             ],
             [
              0.7777777777777778,
              "#fb9f3a"
             ],
             [
              0.8888888888888888,
              "#fdca26"
             ],
             [
              1,
              "#f0f921"
             ]
            ],
            "type": "heatmapgl"
           }
          ],
          "histogram": [
           {
            "marker": {
             "pattern": {
              "fillmode": "overlay",
              "size": 10,
              "solidity": 0.2
             }
            },
            "type": "histogram"
           }
          ],
          "histogram2d": [
           {
            "colorbar": {
             "outlinewidth": 0,
             "ticks": ""
            },
            "colorscale": [
             [
              0,
              "#0d0887"
             ],
             [
              0.1111111111111111,
              "#46039f"
             ],
             [
              0.2222222222222222,
              "#7201a8"
             ],
             [
              0.3333333333333333,
              "#9c179e"
             ],
             [
              0.4444444444444444,
              "#bd3786"
             ],
             [
              0.5555555555555556,
              "#d8576b"
             ],
             [
              0.6666666666666666,
              "#ed7953"
             ],
             [
              0.7777777777777778,
              "#fb9f3a"
             ],
             [
              0.8888888888888888,
              "#fdca26"
             ],
             [
              1,
              "#f0f921"
             ]
            ],
            "type": "histogram2d"
           }
          ],
          "histogram2dcontour": [
           {
            "colorbar": {
             "outlinewidth": 0,
             "ticks": ""
            },
            "colorscale": [
             [
              0,
              "#0d0887"
             ],
             [
              0.1111111111111111,
              "#46039f"
             ],
             [
              0.2222222222222222,
              "#7201a8"
             ],
             [
              0.3333333333333333,
              "#9c179e"
             ],
             [
              0.4444444444444444,
              "#bd3786"
             ],
             [
              0.5555555555555556,
              "#d8576b"
             ],
             [
              0.6666666666666666,
              "#ed7953"
             ],
             [
              0.7777777777777778,
              "#fb9f3a"
             ],
             [
              0.8888888888888888,
              "#fdca26"
             ],
             [
              1,
              "#f0f921"
             ]
            ],
            "type": "histogram2dcontour"
           }
          ],
          "mesh3d": [
           {
            "colorbar": {
             "outlinewidth": 0,
             "ticks": ""
            },
            "type": "mesh3d"
           }
          ],
          "parcoords": [
           {
            "line": {
             "colorbar": {
              "outlinewidth": 0,
              "ticks": ""
             }
            },
            "type": "parcoords"
           }
          ],
          "pie": [
           {
            "automargin": true,
            "type": "pie"
           }
          ],
          "scatter": [
           {
            "fillpattern": {
             "fillmode": "overlay",
             "size": 10,
             "solidity": 0.2
            },
            "type": "scatter"
           }
          ],
          "scatter3d": [
           {
            "line": {
             "colorbar": {
              "outlinewidth": 0,
              "ticks": ""
             }
            },
            "marker": {
             "colorbar": {
              "outlinewidth": 0,
              "ticks": ""
             }
            },
            "type": "scatter3d"
           }
          ],
          "scattercarpet": [
           {
            "marker": {
             "colorbar": {
              "outlinewidth": 0,
              "ticks": ""
             }
            },
            "type": "scattercarpet"
           }
          ],
          "scattergeo": [
           {
            "marker": {
             "colorbar": {
              "outlinewidth": 0,
              "ticks": ""
             }
            },
            "type": "scattergeo"
           }
          ],
          "scattergl": [
           {
            "marker": {
             "colorbar": {
              "outlinewidth": 0,
              "ticks": ""
             }
            },
            "type": "scattergl"
           }
          ],
          "scattermapbox": [
           {
            "marker": {
             "colorbar": {
              "outlinewidth": 0,
              "ticks": ""
             }
            },
            "type": "scattermapbox"
           }
          ],
          "scatterpolar": [
           {
            "marker": {
             "colorbar": {
              "outlinewidth": 0,
              "ticks": ""
             }
            },
            "type": "scatterpolar"
           }
          ],
          "scatterpolargl": [
           {
            "marker": {
             "colorbar": {
              "outlinewidth": 0,
              "ticks": ""
             }
            },
            "type": "scatterpolargl"
           }
          ],
          "scatterternary": [
           {
            "marker": {
             "colorbar": {
              "outlinewidth": 0,
              "ticks": ""
             }
            },
            "type": "scatterternary"
           }
          ],
          "surface": [
           {
            "colorbar": {
             "outlinewidth": 0,
             "ticks": ""
            },
            "colorscale": [
             [
              0,
              "#0d0887"
             ],
             [
              0.1111111111111111,
              "#46039f"
             ],
             [
              0.2222222222222222,
              "#7201a8"
             ],
             [
              0.3333333333333333,
              "#9c179e"
             ],
             [
              0.4444444444444444,
              "#bd3786"
             ],
             [
              0.5555555555555556,
              "#d8576b"
             ],
             [
              0.6666666666666666,
              "#ed7953"
             ],
             [
              0.7777777777777778,
              "#fb9f3a"
             ],
             [
              0.8888888888888888,
              "#fdca26"
             ],
             [
              1,
              "#f0f921"
             ]
            ],
            "type": "surface"
           }
          ],
          "table": [
           {
            "cells": {
             "fill": {
              "color": "#EBF0F8"
             },
             "line": {
              "color": "white"
             }
            },
            "header": {
             "fill": {
              "color": "#C8D4E3"
             },
             "line": {
              "color": "white"
             }
            },
            "type": "table"
           }
          ]
         },
         "layout": {
          "annotationdefaults": {
           "arrowcolor": "#2a3f5f",
           "arrowhead": 0,
           "arrowwidth": 1
          },
          "autotypenumbers": "strict",
          "coloraxis": {
           "colorbar": {
            "outlinewidth": 0,
            "ticks": ""
           }
          },
          "colorscale": {
           "diverging": [
            [
             0,
             "#8e0152"
            ],
            [
             0.1,
             "#c51b7d"
            ],
            [
             0.2,
             "#de77ae"
            ],
            [
             0.3,
             "#f1b6da"
            ],
            [
             0.4,
             "#fde0ef"
            ],
            [
             0.5,
             "#f7f7f7"
            ],
            [
             0.6,
             "#e6f5d0"
            ],
            [
             0.7,
             "#b8e186"
            ],
            [
             0.8,
             "#7fbc41"
            ],
            [
             0.9,
             "#4d9221"
            ],
            [
             1,
             "#276419"
            ]
           ],
           "sequential": [
            [
             0,
             "#0d0887"
            ],
            [
             0.1111111111111111,
             "#46039f"
            ],
            [
             0.2222222222222222,
             "#7201a8"
            ],
            [
             0.3333333333333333,
             "#9c179e"
            ],
            [
             0.4444444444444444,
             "#bd3786"
            ],
            [
             0.5555555555555556,
             "#d8576b"
            ],
            [
             0.6666666666666666,
             "#ed7953"
            ],
            [
             0.7777777777777778,
             "#fb9f3a"
            ],
            [
             0.8888888888888888,
             "#fdca26"
            ],
            [
             1,
             "#f0f921"
            ]
           ],
           "sequentialminus": [
            [
             0,
             "#0d0887"
            ],
            [
             0.1111111111111111,
             "#46039f"
            ],
            [
             0.2222222222222222,
             "#7201a8"
            ],
            [
             0.3333333333333333,
             "#9c179e"
            ],
            [
             0.4444444444444444,
             "#bd3786"
            ],
            [
             0.5555555555555556,
             "#d8576b"
            ],
            [
             0.6666666666666666,
             "#ed7953"
            ],
            [
             0.7777777777777778,
             "#fb9f3a"
            ],
            [
             0.8888888888888888,
             "#fdca26"
            ],
            [
             1,
             "#f0f921"
            ]
           ]
          },
          "colorway": [
           "#636efa",
           "#EF553B",
           "#00cc96",
           "#ab63fa",
           "#FFA15A",
           "#19d3f3",
           "#FF6692",
           "#B6E880",
           "#FF97FF",
           "#FECB52"
          ],
          "font": {
           "color": "#2a3f5f"
          },
          "geo": {
           "bgcolor": "white",
           "lakecolor": "white",
           "landcolor": "#E5ECF6",
           "showlakes": true,
           "showland": true,
           "subunitcolor": "white"
          },
          "hoverlabel": {
           "align": "left"
          },
          "hovermode": "closest",
          "mapbox": {
           "style": "light"
          },
          "paper_bgcolor": "white",
          "plot_bgcolor": "#E5ECF6",
          "polar": {
           "angularaxis": {
            "gridcolor": "white",
            "linecolor": "white",
            "ticks": ""
           },
           "bgcolor": "#E5ECF6",
           "radialaxis": {
            "gridcolor": "white",
            "linecolor": "white",
            "ticks": ""
           }
          },
          "scene": {
           "xaxis": {
            "backgroundcolor": "#E5ECF6",
            "gridcolor": "white",
            "gridwidth": 2,
            "linecolor": "white",
            "showbackground": true,
            "ticks": "",
            "zerolinecolor": "white"
           },
           "yaxis": {
            "backgroundcolor": "#E5ECF6",
            "gridcolor": "white",
            "gridwidth": 2,
            "linecolor": "white",
            "showbackground": true,
            "ticks": "",
            "zerolinecolor": "white"
           },
           "zaxis": {
            "backgroundcolor": "#E5ECF6",
            "gridcolor": "white",
            "gridwidth": 2,
            "linecolor": "white",
            "showbackground": true,
            "ticks": "",
            "zerolinecolor": "white"
           }
          },
          "shapedefaults": {
           "line": {
            "color": "#2a3f5f"
           }
          },
          "ternary": {
           "aaxis": {
            "gridcolor": "white",
            "linecolor": "white",
            "ticks": ""
           },
           "baxis": {
            "gridcolor": "white",
            "linecolor": "white",
            "ticks": ""
           },
           "bgcolor": "#E5ECF6",
           "caxis": {
            "gridcolor": "white",
            "linecolor": "white",
            "ticks": ""
           }
          },
          "title": {
           "x": 0.05
          },
          "xaxis": {
           "automargin": true,
           "gridcolor": "white",
           "linecolor": "white",
           "ticks": "",
           "title": {
            "standoff": 15
           },
           "zerolinecolor": "white",
           "zerolinewidth": 2
          },
          "yaxis": {
           "automargin": true,
           "gridcolor": "white",
           "linecolor": "white",
           "ticks": "",
           "title": {
            "standoff": 15
           },
           "zerolinecolor": "white",
           "zerolinewidth": 2
          }
         }
        },
        "xaxis": {
         "range": [
          -50000,
          50000
         ],
         "ticktext": [
          50000,
          25000,
          10000,
          0,
          10000,
          25000,
          50000
         ],
         "tickvals": [
          -50000,
          -25000,
          -10000,
          0,
          10000,
          25000,
          50000
         ],
         "title": {
          "text": "TOTAL"
         }
        },
        "yaxis": {
         "title": {
          "text": "Grupos de Edad"
         }
        }
       }
      }
     },
     "metadata": {},
     "output_type": "display_data"
    }
   ],
   "source": [
    "#import plotly.plotly as py\n",
    "#import plotly.graph_objs as go\n",
    "\n",
    "#import numpy as np\n",
    "\n",
    "women_bins = df_GroupByEdades['-MUJER']\n",
    "men_bins = df_GroupByEdades['HOMBRE']\n",
    "\n",
    "\n",
    "y = df_GroupByEdades['RangoEdad']\n",
    "\n",
    "layout = go.Layout(yaxis=go.layout.YAxis(title='Grupos de Edad'),\n",
    "                   xaxis=go.layout.XAxis(\n",
    "                       range=[-50000, 50000],\n",
    "                       tickvals=[-50000, -25000, -10000, 0, 10000, 25000, 50000],\n",
    "                       ticktext=[50000, 25000, 10000, 0, 10000, 25000, 50000],\n",
    "                       title='TOTAL'),\n",
    "                   barmode='overlay',\n",
    "                   bargap=0.1)\n",
    "\n",
    "data = [go.Bar(y=y,\n",
    "               x=men_bins,\n",
    "               orientation='h',\n",
    "               name='HOMBRES',\n",
    "               text=men_bins.astype('int'),\n",
    "               hoverinfo='x',\n",
    "               marker=dict(color='#2E7DA1')\n",
    "               ),\n",
    "        go.Bar(y=y,\n",
    "               x=women_bins,\n",
    "               orientation='h',\n",
    "               name='MUJERES',\n",
    "               text=-1 * women_bins.astype('int'),\n",
    "               hoverinfo='text',\n",
    "               marker=dict(color='#CD6155')\n",
    "               )]\n",
    "\n",
    "pyo.iplot(dict(data=data, layout=layout), filename='../resultados/PiramidePoblacion.html')"
   ]
  }
 ],
 "metadata": {
  "kernelspec": {
   "display_name": "TFM",
   "language": "python",
   "name": "python3"
  },
  "language_info": {
   "codemirror_mode": {
    "name": "ipython",
    "version": 3
   },
   "file_extension": ".py",
   "mimetype": "text/x-python",
   "name": "python",
   "nbconvert_exporter": "python",
   "pygments_lexer": "ipython3",
   "version": "3.11.3"
  },
  "orig_nbformat": 4
 },
 "nbformat": 4,
 "nbformat_minor": 2
}
