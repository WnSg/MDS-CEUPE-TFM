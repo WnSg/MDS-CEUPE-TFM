{
 "cells": [
  {
   "attachments": {},
   "cell_type": "markdown",
   "metadata": {},
   "source": [
    "### Importar Librerias y establecer conexion a la base de datos"
   ]
  },
  {
   "cell_type": "code",
   "execution_count": 1,
   "metadata": {},
   "outputs": [
    {
     "name": "stdout",
     "output_type": "stream",
     "text": [
      "Conexion exitosa\n"
     ]
    }
   ],
   "source": [
    "# Importar Librerias\n",
    "import pandas as pd\n",
    "import pyodbc \n",
    "\n",
    "# Establecer la conexión con la base de datos\n",
    "server = 'ws-dev' \n",
    "database = 'svs_produccion' \n",
    "username = 'sa_Api' \n",
    "password = '$db@C0vid*19' \n",
    "\n",
    "cnxn = pyodbc.connect('DRIVER={SQL Server};SERVER='+server+';DATABASE='+database+';UID='+username+';PWD='+ password)\n",
    "\n",
    "print(\"Conexion exitosa\")\n",
    "   "
   ]
  },
  {
   "cell_type": "code",
   "execution_count": 2,
   "metadata": {},
   "outputs": [
    {
     "name": "stderr",
     "output_type": "stream",
     "text": [
      "C:\\Users\\wsilva\\AppData\\Local\\Temp\\ipykernel_27516\\2615894453.py:2: UserWarning: pandas only supports SQLAlchemy connectable (engine/connection) or database string URI or sqlite3 DBAPI2 connection. Other DBAPI2 objects are not tested. Please consider using SQLAlchemy.\n",
      "  df = pd.read_sql_query(\"SELECT * FROM Rpt_ResultadosLaboratorio\",cnxn)\n"
     ]
    }
   ],
   "source": [
    " # Ejecutar una consulta SQL para obtener la lista de tablas\n",
    "df = pd.read_sql_query(\"SELECT * FROM Rpt_ResultadosLaboratorio\",cnxn)\n",
    "\n",
    "#Cerrar Conexion a la Base de Datos\n",
    "cnxn.close()"
   ]
  },
  {
   "cell_type": "code",
   "execution_count": 3,
   "metadata": {},
   "outputs": [
    {
     "data": {
      "text/html": [
       "<div>\n",
       "<style scoped>\n",
       "    .dataframe tbody tr th:only-of-type {\n",
       "        vertical-align: middle;\n",
       "    }\n",
       "\n",
       "    .dataframe tbody tr th {\n",
       "        vertical-align: top;\n",
       "    }\n",
       "\n",
       "    .dataframe thead th {\n",
       "        text-align: right;\n",
       "    }\n",
       "</style>\n",
       "<table border=\"1\" class=\"dataframe\">\n",
       "  <thead>\n",
       "    <tr style=\"text-align: right;\">\n",
       "      <th></th>\n",
       "      <th>OrdenLaboratorioDetalleId</th>\n",
       "      <th>FechaRecepcionMuestra</th>\n",
       "      <th>CodigoMuestra</th>\n",
       "      <th>Expediente</th>\n",
       "      <th>NombreCompleto</th>\n",
       "      <th>Edad</th>\n",
       "      <th>TipoEdad</th>\n",
       "      <th>Sexo</th>\n",
       "      <th>Ocupacion</th>\n",
       "      <th>Region</th>\n",
       "      <th>...</th>\n",
       "      <th>Obesidad</th>\n",
       "      <th>Asma</th>\n",
       "      <th>EnfermedadRenalCronica</th>\n",
       "      <th>Inmunosupresion</th>\n",
       "      <th>AlcoholismoCronico</th>\n",
       "      <th>EnfermedadNeurologicaCronica</th>\n",
       "      <th>Tabaquismo</th>\n",
       "      <th>Embarazo</th>\n",
       "      <th>SemanasGestacion</th>\n",
       "      <th>Observaciones</th>\n",
       "    </tr>\n",
       "  </thead>\n",
       "  <tbody>\n",
       "    <tr>\n",
       "      <th>0</th>\n",
       "      <td>40669</td>\n",
       "      <td>2020-12-16 16:31:46.653</td>\n",
       "      <td>LNV 210778</td>\n",
       "      <td>0801197409314</td>\n",
       "      <td>CARLOS ROBERTO MEDINA ACOSTA</td>\n",
       "      <td>46</td>\n",
       "      <td>AÑOS</td>\n",
       "      <td>HOMBRE</td>\n",
       "      <td>INGENIERO ELECTRICISTA</td>\n",
       "      <td>19</td>\n",
       "      <td>...</td>\n",
       "      <td>None</td>\n",
       "      <td>None</td>\n",
       "      <td>None</td>\n",
       "      <td>None</td>\n",
       "      <td>None</td>\n",
       "      <td>None</td>\n",
       "      <td>None</td>\n",
       "      <td>None</td>\n",
       "      <td>NaN</td>\n",
       "      <td></td>\n",
       "    </tr>\n",
       "    <tr>\n",
       "      <th>1</th>\n",
       "      <td>49446</td>\n",
       "      <td>2021-01-09 13:05:26.620</td>\n",
       "      <td>LNV 219064</td>\n",
       "      <td>0801197200856</td>\n",
       "      <td>RICARDO FRANCISCO GONZALEZ MEJIA</td>\n",
       "      <td>48</td>\n",
       "      <td>AÑOS</td>\n",
       "      <td>HOMBRE</td>\n",
       "      <td>INGENIERO ELECTRICISTA</td>\n",
       "      <td>19</td>\n",
       "      <td>...</td>\n",
       "      <td>None</td>\n",
       "      <td>None</td>\n",
       "      <td>None</td>\n",
       "      <td>None</td>\n",
       "      <td>None</td>\n",
       "      <td>None</td>\n",
       "      <td>None</td>\n",
       "      <td>None</td>\n",
       "      <td>NaN</td>\n",
       "      <td></td>\n",
       "    </tr>\n",
       "    <tr>\n",
       "      <th>2</th>\n",
       "      <td>114519</td>\n",
       "      <td>2021-02-17 08:33:43.653</td>\n",
       "      <td>LNV 263159</td>\n",
       "      <td>P-17519</td>\n",
       "      <td>WILLIAM JAMES LORENZ</td>\n",
       "      <td>77</td>\n",
       "      <td>AÑOS</td>\n",
       "      <td>HOMBRE</td>\n",
       "      <td>INGENIERO ELECTRICISTA</td>\n",
       "      <td>2</td>\n",
       "      <td>...</td>\n",
       "      <td>None</td>\n",
       "      <td>None</td>\n",
       "      <td>None</td>\n",
       "      <td>None</td>\n",
       "      <td>None</td>\n",
       "      <td>None</td>\n",
       "      <td>None</td>\n",
       "      <td>None</td>\n",
       "      <td>NaN</td>\n",
       "      <td></td>\n",
       "    </tr>\n",
       "    <tr>\n",
       "      <th>3</th>\n",
       "      <td>283644</td>\n",
       "      <td>2021-06-01 15:30:09.847</td>\n",
       "      <td>LRA 14736</td>\n",
       "      <td>0209197901312</td>\n",
       "      <td>CARLOS ALFREDO MIRANDA SABIO</td>\n",
       "      <td>41</td>\n",
       "      <td>AÑOS</td>\n",
       "      <td>HOMBRE</td>\n",
       "      <td>INGENIERO ELECTRICISTA</td>\n",
       "      <td>2</td>\n",
       "      <td>...</td>\n",
       "      <td>None</td>\n",
       "      <td>None</td>\n",
       "      <td>None</td>\n",
       "      <td>None</td>\n",
       "      <td>None</td>\n",
       "      <td>None</td>\n",
       "      <td>None</td>\n",
       "      <td>None</td>\n",
       "      <td>NaN</td>\n",
       "      <td></td>\n",
       "    </tr>\n",
       "    <tr>\n",
       "      <th>4</th>\n",
       "      <td>273133</td>\n",
       "      <td>2021-05-26 13:26:08.503</td>\n",
       "      <td>LNV 359736</td>\n",
       "      <td>1709198200981</td>\n",
       "      <td>DOUGLAS REINALDO ZERON JUAREZ</td>\n",
       "      <td>38</td>\n",
       "      <td>AÑOS</td>\n",
       "      <td>HOMBRE</td>\n",
       "      <td>INGENIERO CIVIL</td>\n",
       "      <td>17</td>\n",
       "      <td>...</td>\n",
       "      <td>None</td>\n",
       "      <td>None</td>\n",
       "      <td>None</td>\n",
       "      <td>None</td>\n",
       "      <td>None</td>\n",
       "      <td>None</td>\n",
       "      <td>None</td>\n",
       "      <td>None</td>\n",
       "      <td>NaN</td>\n",
       "      <td></td>\n",
       "    </tr>\n",
       "  </tbody>\n",
       "</table>\n",
       "<p>5 rows × 54 columns</p>\n",
       "</div>"
      ],
      "text/plain": [
       "   OrdenLaboratorioDetalleId   FechaRecepcionMuestra CodigoMuestra  \\\n",
       "0                      40669 2020-12-16 16:31:46.653    LNV 210778   \n",
       "1                      49446 2021-01-09 13:05:26.620    LNV 219064   \n",
       "2                     114519 2021-02-17 08:33:43.653    LNV 263159   \n",
       "3                     283644 2021-06-01 15:30:09.847     LRA 14736   \n",
       "4                     273133 2021-05-26 13:26:08.503    LNV 359736   \n",
       "\n",
       "      Expediente                    NombreCompleto  Edad TipoEdad    Sexo  \\\n",
       "0  0801197409314      CARLOS ROBERTO MEDINA ACOSTA    46     AÑOS  HOMBRE   \n",
       "1  0801197200856  RICARDO FRANCISCO GONZALEZ MEJIA    48     AÑOS  HOMBRE   \n",
       "2        P-17519              WILLIAM JAMES LORENZ    77     AÑOS  HOMBRE   \n",
       "3  0209197901312      CARLOS ALFREDO MIRANDA SABIO    41     AÑOS  HOMBRE   \n",
       "4  1709198200981     DOUGLAS REINALDO ZERON JUAREZ    38     AÑOS  HOMBRE   \n",
       "\n",
       "                Ocupacion  Region  ... Obesidad  Asma EnfermedadRenalCronica  \\\n",
       "0  INGENIERO ELECTRICISTA      19  ...     None  None                   None   \n",
       "1  INGENIERO ELECTRICISTA      19  ...     None  None                   None   \n",
       "2  INGENIERO ELECTRICISTA       2  ...     None  None                   None   \n",
       "3  INGENIERO ELECTRICISTA       2  ...     None  None                   None   \n",
       "4         INGENIERO CIVIL      17  ...     None  None                   None   \n",
       "\n",
       "  Inmunosupresion AlcoholismoCronico EnfermedadNeurologicaCronica Tabaquismo  \\\n",
       "0            None               None                         None       None   \n",
       "1            None               None                         None       None   \n",
       "2            None               None                         None       None   \n",
       "3            None               None                         None       None   \n",
       "4            None               None                         None       None   \n",
       "\n",
       "  Embarazo SemanasGestacion Observaciones  \n",
       "0     None              NaN                \n",
       "1     None              NaN                \n",
       "2     None              NaN                \n",
       "3     None              NaN                \n",
       "4     None              NaN                \n",
       "\n",
       "[5 rows x 54 columns]"
      ]
     },
     "execution_count": 3,
     "metadata": {},
     "output_type": "execute_result"
    }
   ],
   "source": [
    "# validar los campos o valiables del dataframe\n",
    "df.head()"
   ]
  },
  {
   "attachments": {},
   "cell_type": "markdown",
   "metadata": {},
   "source": [
    "### Realizar el analisis exploratorio del conjunto de datos y resumir las principales caracteristicas. utilizando la libreria YData Profiling"
   ]
  },
  {
   "cell_type": "code",
   "execution_count": 4,
   "metadata": {},
   "outputs": [
    {
     "data": {
      "application/vnd.jupyter.widget-view+json": {
       "model_id": "4570dbf791cc4988ad06702915673966",
       "version_major": 2,
       "version_minor": 0
      },
      "text/plain": [
       "Summarize dataset:   0%|          | 0/5 [00:00<?, ?it/s]"
      ]
     },
     "metadata": {},
     "output_type": "display_data"
    },
    {
     "data": {
      "application/vnd.jupyter.widget-view+json": {
       "model_id": "443fda8a3cb5462d857007ab1bff4b58",
       "version_major": 2,
       "version_minor": 0
      },
      "text/plain": [
       "Generate report structure:   0%|          | 0/1 [00:00<?, ?it/s]"
      ]
     },
     "metadata": {},
     "output_type": "display_data"
    },
    {
     "data": {
      "application/vnd.jupyter.widget-view+json": {
       "model_id": "bbd02d2c3b5542dea809b10f4f5b3295",
       "version_major": 2,
       "version_minor": 0
      },
      "text/plain": [
       "Render HTML:   0%|          | 0/1 [00:00<?, ?it/s]"
      ]
     },
     "metadata": {},
     "output_type": "display_data"
    },
    {
     "data": {
      "application/vnd.jupyter.widget-view+json": {
       "model_id": "018807a43f394ada8a63e58814210626",
       "version_major": 2,
       "version_minor": 0
      },
      "text/plain": [
       "Export report to file:   0%|          | 0/1 [00:00<?, ?it/s]"
      ]
     },
     "metadata": {},
     "output_type": "display_data"
    }
   ],
   "source": [
    "#Importar la libreria\n",
    "from ydata_profiling import ProfileReport\n",
    "#Generar el informe del EDA\n",
    "profile = ProfileReport(df, title=\"Analisis Exploratorio (EDA) -> Datos de Vigilancia de COVID19 en Honduras\")\n",
    "profile.to_file(\"../resultados/EDA_report.html\")\n"
   ]
  },
  {
   "cell_type": "code",
   "execution_count": null,
   "metadata": {},
   "outputs": [],
   "source": []
  }
 ],
 "metadata": {
  "kernelspec": {
   "display_name": "TFM",
   "language": "python",
   "name": "python3"
  },
  "language_info": {
   "codemirror_mode": {
    "name": "ipython",
    "version": 3
   },
   "file_extension": ".py",
   "mimetype": "text/x-python",
   "name": "python",
   "nbconvert_exporter": "python",
   "pygments_lexer": "ipython3",
   "version": "3.11.3"
  },
  "orig_nbformat": 4
 },
 "nbformat": 4,
 "nbformat_minor": 2
}
